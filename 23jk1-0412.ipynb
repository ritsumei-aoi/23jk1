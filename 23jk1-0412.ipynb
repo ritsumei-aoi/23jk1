{
 "cells": [
  {
   "cell_type": "code",
   "execution_count": 1,
   "metadata": {
    "collapsed": false
   },
   "outputs": [
    {
     "name": "stdout",
     "output_type": "stream",
     "text": [
      "IPython console for SymPy 1.7.1 (Python 3.8.5-64-bit) (ground types: gmpy)\n",
      "\n",
      "These commands were executed:\n",
      ">>> from __future__ import division\n",
      ">>> from sympy import *\n",
      ">>> x, y, z, t = symbols('x y z t')\n",
      ">>> k, m, n = symbols('k m n', integer=True)\n",
      ">>> f, g, h = symbols('f g h', cls=Function)\n",
      ">>> init_printing()\n",
      "\n",
      "Documentation can be found at https://docs.sympy.org/1.7.1/\n",
      "\n"
     ]
    }
   ],
   "source": [
    "%matplotlib inline\n",
    "from IPython.display import display,Math\n",
    "from sympy import *\n",
    "init_session()"
   ]
  },
  {
   "cell_type": "code",
   "execution_count": 2,
   "metadata": {
    "collapsed": false
   },
   "outputs": [
    {
     "name": "stdout",
     "output_type": "stream",
     "text": [
      "115 1\n",
      "57 1\n",
      "28 1\n",
      "14 0\n",
      "7 0\n",
      "3 1\n",
      "1 1\n",
      "0 1\n",
      "231を2進法で表すと11100111\n"
     ]
    }
   ],
   "source": [
    "m = 231\n",
    "m10 = m\n",
    "(m,d) = (m//2,m%2)\n",
    "print(m,d)\n",
    "m2 = str(d)\n",
    "while m>0:\n",
    "    (m,d) = (m//2,m%2)\n",
    "    print(m,d)\n",
    "    m2 = str(d)+m2\n",
    "print(\"{0:d}を2進法で表すと{1:s}\".format(m10,m2))"
   ]
  },
  {
   "cell_type": "code",
   "execution_count": 3,
   "metadata": {
    "collapsed": false
   },
   "outputs": [
    {
     "data": {
      "application/vnd.jupyter.widget-view+json": {
       "model_id": "97962458ae5d4068905b122f3a62d397",
       "version_major": 2,
       "version_minor": 0
      },
      "text/plain": [
       "interactive(children=(IntSlider(value=500, description='n', max=1000), Dropdown(description='進法:', options=(('…"
      ]
     },
     "execution_count": 3,
     "metadata": {
     },
     "output_type": "execute_result"
    }
   ],
   "source": [
    "from ipywidgets import interact,Dropdown\n",
    "basenumlist = [2,8,16]\n",
    "basefunclist = [bin,oct,hex]\n",
    "dd = Dropdown(\n",
    "    options=[('2進法', 0), ('8進法', 1), ('16進法', 2)],\n",
    "    value=0,\n",
    "    description='進法:')\n",
    "@interact\n",
    "def _(n=(0,1000,1),dd=dd):\n",
    "    basenum = basenumlist[dd]\n",
    "    basefunc = basefunclist[dd]\n",
    "    return display(Math(\"{0:4d} = {2:s}_{{ {1:d} }}\".format(n,basenum,basefunc(n)[2:])))\n"
   ]
  },
  {
   "cell_type": "code",
   "execution_count": 4,
   "metadata": {
    "collapsed": false
   },
   "outputs": [
    {
     "data": {
      "application/vnd.jupyter.widget-view+json": {
       "model_id": "2542dc92f08c44b39a5ede81100bca33",
       "version_major": 2,
       "version_minor": 0
      },
      "text/plain": [
       "interactive(children=(Text(value='11111', description='s'), IntSlider(value=2, description='m', max=16, min=2)…"
      ]
     },
     "execution_count": 4,
     "metadata": {
     },
     "output_type": "execute_result"
    }
   ],
   "source": [
    "from ipywidgets import interact\n",
    "from ipywidgets import interact,Dropdown,IntSlider\n",
    "@interact\n",
    "def _(s=\"11111\",m=IntSlider(value=2,min=2,max=16,step=1)):\n",
    "    return display(Math(\"{0:s}_{{ {1:d} }}= {2:d}\".format(s,m,int(s,m))))\n"
   ]
  },
  {
   "cell_type": "code",
   "execution_count": 2,
   "metadata": {
    "collapsed": false
   },
   "outputs": [
    {
     "data": {
      "application/vnd.jupyter.widget-view+json": {
       "model_id": "1405672223554445928f6449a1ad25df",
       "version_major": 2,
       "version_minor": 0
      },
      "text/plain": [
       "interactive(children=(IntSlider(value=0, description='n', max=1024), IntSlider(value=1, description='d', max=1…"
      ]
     },
     "execution_count": 2,
     "metadata": {
     },
     "output_type": "execute_result"
    }
   ],
   "source": [
    "from ipywidgets import interact\n",
    "from ipywidgets import interact,Dropdown,IntSlider\n",
    "D = 24\n",
    "@interact\n",
    "def _(n=IntSlider(value=0,min=0,max=2**D,step=1),d=IntSlider(value=1,min=1,max=D,step=1)):\n",
    "    nb = bin(n)[2:]\n",
    "    nb1 = nb[0:-d] # オーバーフロー分\n",
    "    nb2 = nb[-d:]  # 残り\n",
    "    n2 = bin(n%(2**d))[2:]\n",
    "    n2len = len(str(n2))\n",
    "    n2str = '0'*(d-n2len) + n2\n",
    "    return display(Math(\"{0:d} = \\\\color{{red}}{{{1:s} }}\\\\color{{blue}}{{{2:s} }}_2\\\\rightarrow {3:s}_2 = {4:d} \\quad({5:d}ビット)\".format(n,nb1,nb2,n2str,n%(2**d),d)))"
   ]
  },
  {
   "cell_type": "code",
   "execution_count": 0,
   "metadata": {
    "collapsed": false
   },
   "outputs": [
   ],
   "source": [
   ]
  }
 ],
 "metadata": {
  "kernelspec": {
   "display_name": "Python 3",
   "language": "python",
   "name": "python3",
   "resource_dir": "/usr/local/share/jupyter/kernels/python3"
  },
  "language_info": {
   "codemirror_mode": {
    "name": "ipython",
    "version": 3
   },
   "file_extension": ".py",
   "mimetype": "text/x-python",
   "name": "python",
   "nbconvert_exporter": "python",
   "pygments_lexer": "ipython3",
   "version": "3.8.5"
  },
  "toc": {
   "base_numbering": 1,
   "nav_menu": {
   },
   "number_sections": true,
   "sideBar": true,
   "skip_h1_title": false,
   "title_cell": "Table of Contents",
   "title_sidebar": "Contents",
   "toc_cell": false,
   "toc_position": {
   },
   "toc_section_display": true,
   "toc_window_display": false
  }
 },
 "nbformat": 4,
 "nbformat_minor": 4
}